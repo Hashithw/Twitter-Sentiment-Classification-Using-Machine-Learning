{
 "cells": [
  {
   "cell_type": "markdown",
   "id": "75ca5a82",
   "metadata": {},
   "source": [
    "# Twitter Sentiment Classification using Machine Learning\n",
    "\n",
    "This project performs **entity-level sentiment Classification** on Twitter data. Each message is analyzed in the context of a specific entity (e.g., a brand or topic), and the sentiment expressed toward that entity is classified.\n",
    "\n",
    "## Dataset\n",
    "\n",
    "The dataset used for this project is available on Kaggle:  \n",
    "👉 [Twitter Entity Sentiment Analysis Dataset](https://www.kaggle.com/datasets/jp797498e/twitter-entity-sentiment-analysis/)\n",
    "\n",
    "- It contains tweets along with associated entities and sentiment labels.\n",
    "- Sentiment labels include: **Positive**, **Negative**, **Irrelevant** and **Neutral**.\n",
    "\n",
    "The dataset was loaded using the following structure:\n",
    "\n",
    "| Column     | Description                     |\n",
    "|------------|---------------------------------|\n",
    "| `id`       | Tweet ID                        |\n",
    "| `Account`  | Entity or brand being discussed |\n",
    "| `Label`    | Sentiment label (Positive/Negative/Irrelevant/Neutral) |\n",
    "| `Text`     | Actual tweet/message text       |\n"
   ]
  },
  {
   "cell_type": "code",
   "execution_count": 18,
   "id": "bc472714",
   "metadata": {},
   "outputs": [
    {
     "data": {
      "text/html": [
       "<div>\n",
       "<style scoped>\n",
       "    .dataframe tbody tr th:only-of-type {\n",
       "        vertical-align: middle;\n",
       "    }\n",
       "\n",
       "    .dataframe tbody tr th {\n",
       "        vertical-align: top;\n",
       "    }\n",
       "\n",
       "    .dataframe thead th {\n",
       "        text-align: right;\n",
       "    }\n",
       "</style>\n",
       "<table border=\"1\" class=\"dataframe\">\n",
       "  <thead>\n",
       "    <tr style=\"text-align: right;\">\n",
       "      <th></th>\n",
       "      <th>id</th>\n",
       "      <th>Account</th>\n",
       "      <th>Label</th>\n",
       "      <th>Text</th>\n",
       "    </tr>\n",
       "  </thead>\n",
       "  <tbody>\n",
       "    <tr>\n",
       "      <th>0</th>\n",
       "      <td>2401</td>\n",
       "      <td>Borderlands</td>\n",
       "      <td>Positive</td>\n",
       "      <td>im getting on borderlands and i will murder yo...</td>\n",
       "    </tr>\n",
       "    <tr>\n",
       "      <th>1</th>\n",
       "      <td>2401</td>\n",
       "      <td>Borderlands</td>\n",
       "      <td>Positive</td>\n",
       "      <td>I am coming to the borders and I will kill you...</td>\n",
       "    </tr>\n",
       "    <tr>\n",
       "      <th>2</th>\n",
       "      <td>2401</td>\n",
       "      <td>Borderlands</td>\n",
       "      <td>Positive</td>\n",
       "      <td>im getting on borderlands and i will kill you ...</td>\n",
       "    </tr>\n",
       "    <tr>\n",
       "      <th>3</th>\n",
       "      <td>2401</td>\n",
       "      <td>Borderlands</td>\n",
       "      <td>Positive</td>\n",
       "      <td>im coming on borderlands and i will murder you...</td>\n",
       "    </tr>\n",
       "    <tr>\n",
       "      <th>4</th>\n",
       "      <td>2401</td>\n",
       "      <td>Borderlands</td>\n",
       "      <td>Positive</td>\n",
       "      <td>im getting on borderlands 2 and i will murder ...</td>\n",
       "    </tr>\n",
       "  </tbody>\n",
       "</table>\n",
       "</div>"
      ],
      "text/plain": [
       "     id      Account     Label  \\\n",
       "0  2401  Borderlands  Positive   \n",
       "1  2401  Borderlands  Positive   \n",
       "2  2401  Borderlands  Positive   \n",
       "3  2401  Borderlands  Positive   \n",
       "4  2401  Borderlands  Positive   \n",
       "\n",
       "                                                Text  \n",
       "0  im getting on borderlands and i will murder yo...  \n",
       "1  I am coming to the borders and I will kill you...  \n",
       "2  im getting on borderlands and i will kill you ...  \n",
       "3  im coming on borderlands and i will murder you...  \n",
       "4  im getting on borderlands 2 and i will murder ...  "
      ]
     },
     "execution_count": 18,
     "metadata": {},
     "output_type": "execute_result"
    }
   ],
   "source": [
    "import pandas as pd\n",
    "\n",
    "df = pd.read_csv('Twitter Sentiment Analysis.csv', names=['id','Account','Label','Text'])\n",
    "df = df.dropna()\n",
    "df.head()"
   ]
  },
  {
   "cell_type": "markdown",
   "id": "f3ca604f",
   "metadata": {},
   "source": [
    "## Data Exploration: Sentiment Label Distribution\n",
    "\n",
    "To understand the distribution of sentiment labels in the dataset, we counted the number of instances for each class. This helps us identify whether the dataset is balanced across the three sentiment classes: Positive, Negative, Irrelevant and Neutral. A significant imbalance may require special handling during model training."
   ]
  },
  {
   "cell_type": "code",
   "execution_count": 19,
   "id": "1e6078e4",
   "metadata": {},
   "outputs": [
    {
     "data": {
      "text/plain": [
       "Label\n",
       "Negative      22358\n",
       "Positive      20655\n",
       "Neutral       18108\n",
       "Irrelevant    12875\n",
       "Name: count, dtype: int64"
      ]
     },
     "execution_count": 19,
     "metadata": {},
     "output_type": "execute_result"
    }
   ],
   "source": [
    "counts = df['Label'].value_counts()\n",
    "counts"
   ]
  },
  {
   "cell_type": "markdown",
   "id": "dc186957",
   "metadata": {},
   "source": [
    "## Sentiment Distribution Visualization\n",
    "\n",
    "To better understand the proportions of sentiment labels in the dataset, we used a pie chart. This chart visually shows the relative frequency of Positive, Negative, Irrelevant, and Neutral sentiments in the Twitter messages. This kind of visualization helps highlight any class imbalance in a more intuitive way."
   ]
  },
  {
   "cell_type": "code",
   "execution_count": 20,
   "id": "4d15561b",
   "metadata": {},
   "outputs": [
    {
     "data": {
      "text/plain": [
       "Text(0.5, 1.0, 'Twitter Sentiment Analysis')"
      ]
     },
     "execution_count": 20,
     "metadata": {},
     "output_type": "execute_result"
    },
    {
     "data": {
      "image/png": "[encoded data removed]",
      "text/plain": [
       "<Figure size 640x480 with 1 Axes>"
      ]
     },
     "metadata": {},
     "output_type": "display_data"
    }
   ],
   "source": [
    "import matplotlib.pyplot as plt\n",
    "\n",
    "plt.pie(counts, labels=counts.index, autopct='%1.1f%%')\n",
    "plt.title('Twitter Sentiment Analysis')"
   ]
  },
  {
   "cell_type": "markdown",
   "id": "f1fb9479",
   "metadata": {},
   "source": [
    "## Text Preprocessing\n",
    "\n",
    "Before feeding the text data into a machine learning model, it’s essential to clean and preprocess it. In this step:\n",
    "\n",
    "- Punctuation was removed from each tweet.\n",
    "- Common English stopwords were filtered out to retain only meaningful words.\n"
   ]
  },
  {
   "cell_type": "code",
   "execution_count": 21,
   "id": "2f22f15f",
   "metadata": {},
   "outputs": [
    {
     "data": {
      "text/plain": [
       "0     [im, getting, borderlands, murder, ]\n",
       "1                  [coming, borders, kill]\n",
       "2         [im, getting, borderlands, kill]\n",
       "3        [im, coming, borderlands, murder]\n",
       "4    [im, getting, borderlands, 2, murder]\n",
       "Name: Text, dtype: object"
      ]
     },
     "execution_count": 21,
     "metadata": {},
     "output_type": "execute_result"
    }
   ],
   "source": [
    "import string\n",
    "from nltk.corpus import stopwords\n",
    "\n",
    "def text_process(text):\n",
    "    text = str(text)\n",
    "    nopunc = [char for char in text if char not in string.punctuation]\n",
    "    clean_text = [word for word in ''.join(nopunc).split(' ') if word.lower() not in stopwords.words('english')]\n",
    "    return clean_text\n",
    "\n",
    "df['Text'].apply(text_process).head()\n"
   ]
  },
  {
   "cell_type": "markdown",
   "id": "0c5fb756",
   "metadata": {},
   "source": [
    "## Feature Extraction: TF-IDF Vectorization\n",
    "\n",
    "To convert the cleaned text into numerical features that a machine learning model can understand, **TF-IDF Vectorization** was used. \n",
    "\n",
    "- The `TfidfVectorizer` transforms the processed text into a matrix of TF-IDF features.\n",
    "- This technique captures the importance of words by considering both their frequency in a document and how unique they are across all documents.\n",
    "\n",
    "This vectorized representation is then used as input for model training.\n"
   ]
  },
  {
   "cell_type": "code",
   "execution_count": 22,
   "id": "82085340",
   "metadata": {},
   "outputs": [],
   "source": [
    "from sklearn.feature_extraction.text import TfidfVectorizer\n",
    "\n",
    "bow_transformer = TfidfVectorizer(analyzer=text_process).fit(df['Text'])\n",
    "bow = bow_transformer.transform(df['Text'])"
   ]
  },
  {
   "cell_type": "markdown",
   "id": "45ce023c",
   "metadata": {},
   "source": [
    "## TF-IDF Matrix Summary\n",
    "\n",
    "After applying TF-IDF vectorization, the following characteristics were observed in the resulting matrix:\n",
    "\n",
    "- **Vocabulary Size**: Total number of unique tokens (features) extracted from the text data.\n",
    "- **BoW Shape**: The shape of the TF-IDF matrix, indicating the number of documents (rows) and features (columns).\n",
    "- **Non-Zero Elements**: The total number of non-zero values in the matrix, showing how many words actually appear in the documents.\n",
    "- **Sparsity (%)**: A measure of how sparse the matrix is (\n"
   ]
  },
  {
   "cell_type": "code",
   "execution_count": 23,
   "id": "0a8a7277",
   "metadata": {},
   "outputs": [
    {
     "data": {
      "text/html": [
       "<div>\n",
       "<style scoped>\n",
       "    .dataframe tbody tr th:only-of-type {\n",
       "        vertical-align: middle;\n",
       "    }\n",
       "\n",
       "    .dataframe tbody tr th {\n",
       "        vertical-align: top;\n",
       "    }\n",
       "\n",
       "    .dataframe thead th {\n",
       "        text-align: right;\n",
       "    }\n",
       "</style>\n",
       "<table border=\"1\" class=\"dataframe\">\n",
       "  <thead>\n",
       "    <tr style=\"text-align: right;\">\n",
       "      <th></th>\n",
       "      <th></th>\n",
       "      <th>Value</th>\n",
       "    </tr>\n",
       "  </thead>\n",
       "  <tbody>\n",
       "    <tr>\n",
       "      <th>0</th>\n",
       "      <td>Vocabulary Size</td>\n",
       "      <td>51353</td>\n",
       "    </tr>\n",
       "    <tr>\n",
       "      <th>1</th>\n",
       "      <td>Bow shape</td>\n",
       "      <td>(73996, 51353)</td>\n",
       "    </tr>\n",
       "    <tr>\n",
       "      <th>2</th>\n",
       "      <td>Non-zero elements</td>\n",
       "      <td>825868</td>\n",
       "    </tr>\n",
       "    <tr>\n",
       "      <th>3</th>\n",
       "      <td>Sparsity (%)</td>\n",
       "      <td>0.021734</td>\n",
       "    </tr>\n",
       "  </tbody>\n",
       "</table>\n",
       "</div>"
      ],
      "text/plain": [
       "                               Value\n",
       "0    Vocabulary Size           51353\n",
       "1          Bow shape  (73996, 51353)\n",
       "2  Non-zero elements          825868\n",
       "3       Sparsity (%)        0.021734"
      ]
     },
     "execution_count": 23,
     "metadata": {},
     "output_type": "execute_result"
    }
   ],
   "source": [
    "pd.DataFrame({\n",
    "    \" \":['Vocabulary Size','Bow shape','Non-zero elements','Sparsity (%)'],\n",
    "    \"Value\":[len(bow_transformer.vocabulary_),bow.shape,bow.nnz,(bow.nnz*100)/(bow.shape[0]*bow.shape[1])]\n",
    "})"
   ]
  },
  {
   "cell_type": "markdown",
   "id": "8673957f",
   "metadata": {},
   "source": [
    "## Model Training and Evaluation: Naive Bayes Classifier\n",
    "\n",
    "For this project, the **Multinomial Naive Bayes** classifier was used to predict the sentiment of each tweet based on the TF-IDF features.\n",
    "\n",
    "- The model was trained using the full dataset (train and test data combined).\n",
    "- After training, predictions were made for each data point in the dataset.\n",
    "  \n",
    "To evaluate the model, we used various classification metrics such as precision, recall, F1-score, and accuracy.\n",
    "\n",
    "### Model Performance:\n",
    "\n",
    "The **classification report** shows the performance of the Naive Bayes model across different sentiment labels (Positive, Negative, Neutral, and Irrelevant). It provides a detailed analysis of how well the model is performing for each class.\n",
    "\n",
    "The key metrics include:\n",
    "- **Precision**: How many selected items are relevant.\n",
    "- **Recall**: How many relevant items are selected.\n",
    "- **F1-Score**: The harmonic mean of precision and recall.\n"
   ]
  },
  {
   "cell_type": "code",
   "execution_count": 24,
   "id": "04013cc5",
   "metadata": {},
   "outputs": [
    {
     "name": "stdout",
     "output_type": "stream",
     "text": [
      "              precision    recall  f1-score   support\n",
      "\n",
      "  Irrelevant       0.99      0.57      0.73     12875\n",
      "    Negative       0.73      0.94      0.82     22358\n",
      "     Neutral       0.90      0.73      0.81     18108\n",
      "    Positive       0.79      0.88      0.83     20655\n",
      "\n",
      "    accuracy                           0.81     73996\n",
      "   macro avg       0.85      0.78      0.80     73996\n",
      "weighted avg       0.83      0.81      0.80     73996\n",
      "\n"
     ]
    }
   ],
   "source": [
    "from sklearn.naive_bayes import MultinomialNB\n",
    "from sklearn.metrics import classification_report\n",
    "\n",
    "model = MultinomialNB().fit(bow, df['Label'])\n",
    "predict = model.predict(bow)\n",
    "\n",
    "print(classification_report(df['Label'],predict))"
   ]
  },
  {
   "cell_type": "markdown",
   "id": "4acc88f3",
   "metadata": {},
   "source": [
    "## Model Training and Evaluation: Random Forest Classifier\n",
    "\n",
    "In addition to the Naive Bayes model, we also used the **Random Forest Classifier** to predict the sentiment of each tweet. Random Forest is an ensemble learning method that builds multiple decision trees and combines their predictions.\n",
    "\n",
    "- The model was trained on the same dataset used for Naive Bayes (full dataset).\n",
    "- Predictions were made for each data point in the dataset.\n",
    "\n",
    "### Model Performance:\n",
    "\n",
    "The **classification report** shows the performance of the Random Forest model across different sentiment labels (Positive, Negative, Neutral, and Irrelevant). It provides a detailed analysis of how well the model is performing for each class.\n",
    "\n",
    "Compared to Naive Bayes, the Random Forest Classifier showed significant improvements in terms of accuracy, precision, recall, and F1-score.\n",
    "\n",
    "The key metrics include:\n",
    "- **Precision**: How many selected items are relevant.\n",
    "- **Recall**: How many relevant items are selected.\n",
    "- **F1-Score**: The harmonic mean of precision and recall.\n"
   ]
  },
  {
   "cell_type": "code",
   "execution_count": 25,
   "id": "2b18a0a0",
   "metadata": {},
   "outputs": [
    {
     "name": "stdout",
     "output_type": "stream",
     "text": [
      "              precision    recall  f1-score   support\n",
      "\n",
      "  Irrelevant       1.00      0.97      0.98     12875\n",
      "    Negative       1.00      0.97      0.98     22358\n",
      "     Neutral       0.97      0.98      0.98     18108\n",
      "    Positive       0.95      0.99      0.97     20655\n",
      "\n",
      "    accuracy                           0.98     73996\n",
      "   macro avg       0.98      0.98      0.98     73996\n",
      "weighted avg       0.98      0.98      0.98     73996\n",
      "\n"
     ]
    }
   ],
   "source": [
    "from sklearn.ensemble import RandomForestClassifier\n",
    "\n",
    "model = RandomForestClassifier().fit(bow, df['Label'])\n",
    "predict = model.predict(bow)\n",
    "\n",
    "print(classification_report(df['Label'],predict))"
   ]
  },
  {
   "cell_type": "markdown",
   "id": "7f0f3600",
   "metadata": {},
   "source": [
    "## Data Splitting: Train-Test Split\n",
    "\n",
    "To evaluate the performance of the machine learning models, the dataset is split into training and testing sets. This allows for proper evaluation of how the model will perform on unseen data.\n",
    "\n",
    "### Process:\n",
    "- **X (Features)**: The text data (tweets) from the dataset.\n",
    "- **y (Labels)**: The sentiment labels (Positive, Negative, Neutral, Irrelevant) for each tweet.\n",
    "\n",
    "We used the **train_test_split** function from `scikit-learn` to divide the data:\n",
    "- 70% of the data was used for training the model.\n",
    "- 30% of the data was set aside for testing the model's performance.\n",
    "\n",
    "The `random_state=42` ensures that the split is reproducible, meaning the same split can be achieved each time the code is run.\n"
   ]
  },
  {
   "cell_type": "code",
   "execution_count": 26,
   "id": "12d9a6be",
   "metadata": {},
   "outputs": [],
   "source": [
    "from sklearn.model_selection import train_test_split\n",
    "\n",
    "X = df['Text']\n",
    "y = df['Label']\n",
    "\n",
    "X_train, X_test, y_train, y_test = train_test_split(X, y, test_size=0.3, random_state=42)"
   ]
  },
  {
   "cell_type": "markdown",
   "id": "b16ce6e3",
   "metadata": {},
   "source": [
    "## Model Training: Using a Pipeline\n",
    "\n",
    "In this project, a **Pipeline** is used to streamline the process of transforming the data and training the model. The pipeline includes two main steps:\n",
    "\n",
    "1. **TF-IDF Vectorization**: This step uses the `TfidfVectorizer` to convert the text data (tweets) into numerical features. The `text_process` function is applied to clean and preprocess the text (removing punctuation and stopwords).\n",
    "   \n",
    "2. **Model Training**: The **Multinomial Naive Bayes (MultinomialNB)** classifier is used to train the model based on the TF-IDF features.\n",
    "\n",
    "The pipeline allows for easy integration of these steps into a single process, which simplifies the training and prediction workflow.\n",
    "\n",
    "### Process:\n",
    "- The training data (`X_train`, `y_train`) is used to fit the model.\n",
    "- The model is then tested on the test data (`X_test`), and its performance is evaluated using classification metrics such as precision, recall, and F1-score.\n",
    "\n",
    "The results give an overview of how well the model performs on unseen data, providing insights into its ability to classify sentiment in Twitter messages.\n"
   ]
  },
  {
   "cell_type": "code",
   "execution_count": 27,
   "id": "a38dc230",
   "metadata": {},
   "outputs": [
    {
     "name": "stdout",
     "output_type": "stream",
     "text": [
      "              precision    recall  f1-score   support\n",
      "\n",
      "  Irrelevant       0.96      0.35      0.51      4023\n",
      "    Negative       0.64      0.91      0.75      6598\n",
      "     Neutral       0.82      0.62      0.71      5421\n",
      "    Positive       0.69      0.81      0.75      6157\n",
      "\n",
      "    accuracy                           0.71     22199\n",
      "   macro avg       0.78      0.67      0.68     22199\n",
      "weighted avg       0.76      0.71      0.70     22199\n",
      "\n"
     ]
    }
   ],
   "source": [
    "from sklearn.pipeline import Pipeline\n",
    "\n",
    "pipeline = Pipeline([\n",
    "    ('bow',TfidfVectorizer(analyzer=text_process)),\n",
    "    ('classifier',MultinomialNB())\n",
    "])\n",
    "\n",
    "pipeline.fit(X_train, y_train)\n",
    "\n",
    "predict = pipeline.predict(X_test)\n",
    "\n",
    "print(classification_report(y_test, predict))"
   ]
  },
  {
   "cell_type": "markdown",
   "id": "f60fbcdc",
   "metadata": {},
   "source": [
    "## Model Training: Using a Pipeline with Random Forest Classifier\n",
    "\n",
    "In this project, we also use a **Pipeline** to streamline the process of transforming the text data and training a **Random Forest Classifier** model. The pipeline consists of two key components:\n",
    "\n",
    "1. **TF-IDF Vectorization**: The `TfidfVectorizer` is used to convert the raw text (tweets) into numerical features. The `text_process` function cleans and preprocesses the text by removing punctuation and stopwords before the vectorization step.\n",
    "   \n",
    "2. **Model Training**: The **Random Forest Classifier** is used as the classification model. Random Forest is an ensemble method that constructs multiple decision trees and merges their outputs for better predictive performance.\n",
    "\n",
    "### Process:\n",
    "- The pipeline first fits the training data (`X_train`, `y_train`) by transforming the text into feature vectors and then training the model.\n",
    "- The model is then used to predict the sentiment labels on the test data (`X_test`), and the results are evaluated using classification metrics such as precision, recall, and F1-score.\n",
    "\n",
    "The **Random Forest** classifier, being an ensemble model, can provide more robust predictions compared to simpler models and may improve classification accuracy by reducing overfitting and variance.\n"
   ]
  },
  {
   "cell_type": "code",
   "execution_count": 28,
   "id": "764e75f9",
   "metadata": {},
   "outputs": [
    {
     "name": "stdout",
     "output_type": "stream",
     "text": [
      "              precision    recall  f1-score   support\n",
      "\n",
      "  Irrelevant       0.96      0.75      0.84      4023\n",
      "    Negative       0.88      0.90      0.89      6598\n",
      "     Neutral       0.83      0.85      0.84      5421\n",
      "    Positive       0.83      0.91      0.86      6157\n",
      "\n",
      "    accuracy                           0.86     22199\n",
      "   macro avg       0.87      0.85      0.86     22199\n",
      "weighted avg       0.87      0.86      0.86     22199\n",
      "\n"
     ]
    }
   ],
   "source": [
    "pipeline = Pipeline([\n",
    "    ('bow',TfidfVectorizer(analyzer=text_process)),\n",
    "    ('classifier',(RandomForestClassifier()))\n",
    "])\n",
    "\n",
    "pipeline.fit(X_train, y_train)\n",
    "\n",
    "predict = pipeline.predict(X_test)\n",
    "\n",
    "print(classification_report(y_test, predict))"
   ]
  },
  {
   "cell_type": "markdown",
   "id": "cc7130a7",
   "metadata": {},
   "source": [
    "## Final Decision\n",
    "\n",
    "### Accuracy Overview:\n",
    "\n",
    "- **Naive Bayes (Manual Model)**:\n",
    "  - Accuracy: **81%** on the full dataset.\n",
    "  - Tended to **overfit**, performing better on training data than on unseen inputs.\n",
    "\n",
    "- **Random Forest (Manual Model)**:\n",
    "  - Accuracy: **98%** on the full dataset.\n",
    "  - Performed well overall, with less overfitting compared to Naive Bayes.\n",
    "\n",
    "---\n",
    "\n",
    "### Pipeline Model Performance:\n",
    "\n",
    "- **Naive Bayes (Pipeline)**:\n",
    "  - Test Accuracy: **71%**\n",
    "  - Moderate performance; the model learned training patterns but struggled to generalize.\n",
    "\n",
    "- **Random Forest (Pipeline)**:\n",
    "  - Test Accuracy: **86%**\n",
    "  - Best performing model.\n",
    "  - Strong generalization and stable accuracy on unseen data.\n",
    "\n",
    "---\n",
    "\n",
    "### Summary:\n",
    "\n",
    "- **Manual models** showed signs of **overfitting**, especially Naive Bayes.\n",
    "- **Pipeline models** improved preprocessing and consistency.\n",
    "- The **Random Forest pipeline** achieved the best results with **86% test accuracy**, making it the most reliable option for sentiment prediction.\n"
   ]
  }
 ],
 "metadata": {
  "kernelspec": {
   "display_name": "Python 3",
   "language": "python",
   "name": "python3"
  },
  "language_info": {
   "codemirror_mode": {
    "name": "ipython",
    "version": 3
   },
   "file_extension": ".py",
   "mimetype": "text/x-python",
   "name": "python",
   "nbconvert_exporter": "python",
   "pygments_lexer": "ipython3",
   "version": "3.10.10"
  }
 },
 "nbformat": 4,
 "nbformat_minor": 5
}
